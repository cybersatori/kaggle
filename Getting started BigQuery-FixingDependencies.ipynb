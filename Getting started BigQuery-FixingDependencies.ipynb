{
 "cells": [
  {
   "cell_type": "code",
   "execution_count": 5,
   "metadata": {},
   "outputs": [],
   "source": [
    "# conda install -c conda-forge google-cloud-bigquery \n",
    "\n",
    "# [to terminate] export GOOGLE_APPLICATION_CREDENTIALS=\"/YourPathToFileHere/YourDownloadedGoogleCloudFileHere.json\"\n",
    "\n",
    "\n",
    "import os\n",
    "os.environ[\"GOOGLE_APPLICATION_CREDENTIALS\"]=\"YourPathToFileHere/YourDownloadedGoogleCloudFileHere.json\"\n",
    "\n",
    "from google.cloud import bigquery"
   ]
  },
  {
   "cell_type": "code",
   "execution_count": 6,
   "metadata": {},
   "outputs": [],
   "source": [
    "# Create a \"Client\" object\n",
    "client = bigquery.Client()"
   ]
  },
  {
   "cell_type": "code",
   "execution_count": 7,
   "metadata": {},
   "outputs": [],
   "source": [
    "# Construct a reference to the \"hacker_news\" dataset\n",
    "dataset_ref = client.dataset(\"hacker_news\", project=\"bigquery-public-data\")\n",
    "\n",
    "# API request - fetch the dataset\n",
    "dataset = client.get_dataset(dataset_ref)"
   ]
  },
  {
   "cell_type": "code",
   "execution_count": 8,
   "metadata": {},
   "outputs": [
    {
     "name": "stdout",
     "output_type": "stream",
     "text": [
      "comments\n",
      "full\n",
      "full_201510\n",
      "stories\n"
     ]
    }
   ],
   "source": [
    "# List all the tables in the \"hacker_news\" dataset\n",
    "tables = list(client.list_tables(dataset))\n",
    "\n",
    "# Print names of all tables in the dataset (there are four!)\n",
    "for table in tables:  \n",
    "    print(table.table_id)"
   ]
  },
  {
   "cell_type": "code",
   "execution_count": 9,
   "metadata": {},
   "outputs": [],
   "source": [
    "# Construct a reference to the \"full\" table\n",
    "table_ref = dataset_ref.table(\"full\")\n",
    "\n",
    "# API request - fetch the table\n",
    "table = client.get_table(table_ref)"
   ]
  },
  {
   "cell_type": "code",
   "execution_count": 10,
   "metadata": {},
   "outputs": [
    {
     "data": {
      "text/plain": [
       "[SchemaField('title', 'STRING', 'NULLABLE', 'Story title', ()),\n",
       " SchemaField('url', 'STRING', 'NULLABLE', 'Story url', ()),\n",
       " SchemaField('text', 'STRING', 'NULLABLE', 'Story or comment text', ()),\n",
       " SchemaField('dead', 'BOOLEAN', 'NULLABLE', 'Is dead?', ()),\n",
       " SchemaField('by', 'STRING', 'NULLABLE', \"The username of the item's author.\", ()),\n",
       " SchemaField('score', 'INTEGER', 'NULLABLE', 'Story score', ()),\n",
       " SchemaField('time', 'INTEGER', 'NULLABLE', 'Unix time', ()),\n",
       " SchemaField('timestamp', 'TIMESTAMP', 'NULLABLE', 'Timestamp for the unix time', ()),\n",
       " SchemaField('type', 'STRING', 'NULLABLE', 'Type of details (comment, comment_ranking, poll, story, job, pollopt)', ()),\n",
       " SchemaField('id', 'INTEGER', 'NULLABLE', \"The item's unique id.\", ()),\n",
       " SchemaField('parent', 'INTEGER', 'NULLABLE', 'Parent comment ID', ()),\n",
       " SchemaField('descendants', 'INTEGER', 'NULLABLE', 'Number of story or poll descendants', ()),\n",
       " SchemaField('ranking', 'INTEGER', 'NULLABLE', 'Comment ranking', ()),\n",
       " SchemaField('deleted', 'BOOLEAN', 'NULLABLE', 'Is deleted?', ())]"
      ]
     },
     "execution_count": 10,
     "metadata": {},
     "output_type": "execute_result"
    }
   ],
   "source": [
    "# Print information on all the columns in the \"full\" table in the \"hacker_news\" dataset\n",
    "table.schema"
   ]
  },
  {
   "cell_type": "code",
   "execution_count": 11,
   "metadata": {},
   "outputs": [
    {
     "data": {
      "text/html": [
       "<div>\n",
       "<style scoped>\n",
       "    .dataframe tbody tr th:only-of-type {\n",
       "        vertical-align: middle;\n",
       "    }\n",
       "\n",
       "    .dataframe tbody tr th {\n",
       "        vertical-align: top;\n",
       "    }\n",
       "\n",
       "    .dataframe thead th {\n",
       "        text-align: right;\n",
       "    }\n",
       "</style>\n",
       "<table border=\"1\" class=\"dataframe\">\n",
       "  <thead>\n",
       "    <tr style=\"text-align: right;\">\n",
       "      <th></th>\n",
       "      <th>title</th>\n",
       "      <th>url</th>\n",
       "      <th>text</th>\n",
       "      <th>dead</th>\n",
       "      <th>by</th>\n",
       "      <th>score</th>\n",
       "      <th>time</th>\n",
       "      <th>timestamp</th>\n",
       "      <th>type</th>\n",
       "      <th>id</th>\n",
       "      <th>parent</th>\n",
       "      <th>descendants</th>\n",
       "      <th>ranking</th>\n",
       "      <th>deleted</th>\n",
       "    </tr>\n",
       "  </thead>\n",
       "  <tbody>\n",
       "    <tr>\n",
       "      <th>0</th>\n",
       "      <td>None</td>\n",
       "      <td>None</td>\n",
       "      <td>Basic http caching and rate limiting should co...</td>\n",
       "      <td>None</td>\n",
       "      <td>olefoo</td>\n",
       "      <td>NaN</td>\n",
       "      <td>1234282696</td>\n",
       "      <td>2009-02-10 16:18:16+00:00</td>\n",
       "      <td>comment</td>\n",
       "      <td>475357</td>\n",
       "      <td>475218.0</td>\n",
       "      <td>NaN</td>\n",
       "      <td>None</td>\n",
       "      <td>None</td>\n",
       "    </tr>\n",
       "    <tr>\n",
       "      <th>1</th>\n",
       "      <td>None</td>\n",
       "      <td>None</td>\n",
       "      <td>Like it or not, tech now has a huge, huge plac...</td>\n",
       "      <td>None</td>\n",
       "      <td>untog</td>\n",
       "      <td>NaN</td>\n",
       "      <td>1479339707</td>\n",
       "      <td>2016-11-16 23:41:47+00:00</td>\n",
       "      <td>comment</td>\n",
       "      <td>12972724</td>\n",
       "      <td>12972483.0</td>\n",
       "      <td>NaN</td>\n",
       "      <td>None</td>\n",
       "      <td>None</td>\n",
       "    </tr>\n",
       "    <tr>\n",
       "      <th>2</th>\n",
       "      <td>Twitter calls lawyer over hacking</td>\n",
       "      <td>http://news.bbc.co.uk/2/hi/technology/8153122.stm</td>\n",
       "      <td>None</td>\n",
       "      <td>None</td>\n",
       "      <td>IsaacSchlueter</td>\n",
       "      <td>1.0</td>\n",
       "      <td>1247761223</td>\n",
       "      <td>2009-07-16 16:20:23+00:00</td>\n",
       "      <td>story</td>\n",
       "      <td>708255</td>\n",
       "      <td>NaN</td>\n",
       "      <td>1.0</td>\n",
       "      <td>None</td>\n",
       "      <td>None</td>\n",
       "    </tr>\n",
       "    <tr>\n",
       "      <th>3</th>\n",
       "      <td>None</td>\n",
       "      <td>None</td>\n",
       "      <td>Right but the article is comparing the iPhone ...</td>\n",
       "      <td>None</td>\n",
       "      <td>dougp</td>\n",
       "      <td>NaN</td>\n",
       "      <td>1213283715</td>\n",
       "      <td>2008-06-12 15:15:15+00:00</td>\n",
       "      <td>comment</td>\n",
       "      <td>215996</td>\n",
       "      <td>215875.0</td>\n",
       "      <td>NaN</td>\n",
       "      <td>None</td>\n",
       "      <td>None</td>\n",
       "    </tr>\n",
       "    <tr>\n",
       "      <th>4</th>\n",
       "      <td>None</td>\n",
       "      <td>None</td>\n",
       "      <td>Yes, but who tells you &amp;quot;you can&amp;#x27;t do...</td>\n",
       "      <td>None</td>\n",
       "      <td>rsc</td>\n",
       "      <td>NaN</td>\n",
       "      <td>1392340894</td>\n",
       "      <td>2014-02-14 01:21:34+00:00</td>\n",
       "      <td>comment</td>\n",
       "      <td>7236174</td>\n",
       "      <td>7235886.0</td>\n",
       "      <td>NaN</td>\n",
       "      <td>None</td>\n",
       "      <td>None</td>\n",
       "    </tr>\n",
       "  </tbody>\n",
       "</table>\n",
       "</div>"
      ],
      "text/plain": [
       "                               title  \\\n",
       "0                               None   \n",
       "1                               None   \n",
       "2  Twitter calls lawyer over hacking   \n",
       "3                               None   \n",
       "4                               None   \n",
       "\n",
       "                                                 url  \\\n",
       "0                                               None   \n",
       "1                                               None   \n",
       "2  http://news.bbc.co.uk/2/hi/technology/8153122.stm   \n",
       "3                                               None   \n",
       "4                                               None   \n",
       "\n",
       "                                                text  dead              by  \\\n",
       "0  Basic http caching and rate limiting should co...  None          olefoo   \n",
       "1  Like it or not, tech now has a huge, huge plac...  None           untog   \n",
       "2                                               None  None  IsaacSchlueter   \n",
       "3  Right but the article is comparing the iPhone ...  None           dougp   \n",
       "4  Yes, but who tells you &quot;you can&#x27;t do...  None             rsc   \n",
       "\n",
       "   score        time                 timestamp     type        id      parent  \\\n",
       "0    NaN  1234282696 2009-02-10 16:18:16+00:00  comment    475357    475218.0   \n",
       "1    NaN  1479339707 2016-11-16 23:41:47+00:00  comment  12972724  12972483.0   \n",
       "2    1.0  1247761223 2009-07-16 16:20:23+00:00    story    708255         NaN   \n",
       "3    NaN  1213283715 2008-06-12 15:15:15+00:00  comment    215996    215875.0   \n",
       "4    NaN  1392340894 2014-02-14 01:21:34+00:00  comment   7236174   7235886.0   \n",
       "\n",
       "   descendants ranking deleted  \n",
       "0          NaN    None    None  \n",
       "1          NaN    None    None  \n",
       "2          1.0    None    None  \n",
       "3          NaN    None    None  \n",
       "4          NaN    None    None  "
      ]
     },
     "execution_count": 11,
     "metadata": {},
     "output_type": "execute_result"
    }
   ],
   "source": [
    "\n",
    "\n",
    "# Preview the first five lines of the \"full\" table\n",
    "client.list_rows(table, max_results=5).to_dataframe()\n",
    "\n"
   ]
  },
  {
   "cell_type": "code",
   "execution_count": 17,
   "metadata": {},
   "outputs": [
    {
     "data": {
      "text/html": [
       "<div>\n",
       "<style scoped>\n",
       "    .dataframe tbody tr th:only-of-type {\n",
       "        vertical-align: middle;\n",
       "    }\n",
       "\n",
       "    .dataframe tbody tr th {\n",
       "        vertical-align: top;\n",
       "    }\n",
       "\n",
       "    .dataframe thead th {\n",
       "        text-align: right;\n",
       "    }\n",
       "</style>\n",
       "<table border=\"1\" class=\"dataframe\">\n",
       "  <thead>\n",
       "    <tr style=\"text-align: right;\">\n",
       "      <th></th>\n",
       "      <th>title</th>\n",
       "    </tr>\n",
       "  </thead>\n",
       "  <tbody>\n",
       "    <tr>\n",
       "      <th>0</th>\n",
       "      <td>None</td>\n",
       "    </tr>\n",
       "    <tr>\n",
       "      <th>1</th>\n",
       "      <td>None</td>\n",
       "    </tr>\n",
       "    <tr>\n",
       "      <th>2</th>\n",
       "      <td>Twitter calls lawyer over hacking</td>\n",
       "    </tr>\n",
       "    <tr>\n",
       "      <th>3</th>\n",
       "      <td>None</td>\n",
       "    </tr>\n",
       "    <tr>\n",
       "      <th>4</th>\n",
       "      <td>None</td>\n",
       "    </tr>\n",
       "  </tbody>\n",
       "</table>\n",
       "</div>"
      ],
      "text/plain": [
       "                               title\n",
       "0                               None\n",
       "1                               None\n",
       "2  Twitter calls lawyer over hacking\n",
       "3                               None\n",
       "4                               None"
      ]
     },
     "execution_count": 17,
     "metadata": {},
     "output_type": "execute_result"
    }
   ],
   "source": [
    "\n",
    "\n",
    "# Preview the first five entries in the \"by\" column of the \"full\" table\n",
    "client.list_rows(table, selected_fields=table.schema[:1], max_results=5).to_dataframe()\n",
    "\n"
   ]
  },
  {
   "cell_type": "code",
   "execution_count": null,
   "metadata": {},
   "outputs": [],
   "source": []
  }
 ],
 "metadata": {
  "kernelspec": {
   "display_name": "Python 3",
   "language": "python",
   "name": "python3"
  },
  "language_info": {
   "codemirror_mode": {
    "name": "ipython",
    "version": 3
   },
   "file_extension": ".py",
   "mimetype": "text/x-python",
   "name": "python",
   "nbconvert_exporter": "python",
   "pygments_lexer": "ipython3",
   "version": "3.7.3"
  }
 },
 "nbformat": 4,
 "nbformat_minor": 4
}
